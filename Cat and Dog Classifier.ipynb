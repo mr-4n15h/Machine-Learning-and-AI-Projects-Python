{
 "cells": [
  {
   "cell_type": "code",
   "execution_count": 1,
   "metadata": {},
   "outputs": [],
   "source": [
    "import numpy as np\n",
    "import pandas as pd\n",
    "import tensorflow as tf"
   ]
  },
  {
   "cell_type": "code",
   "execution_count": 20,
   "metadata": {},
   "outputs": [
    {
     "name": "stdout",
     "output_type": "stream",
     "text": [
      "Found 8000 images belonging to 2 classes.\n"
     ]
    }
   ],
   "source": [
    "# Prepare the dataset for training\n",
    "\n",
    "# Image augmentation to prevent overfitting\n",
    "from keras.preprocessing.image import ImageDataGenerator\n",
    "\n",
    "# Copied code from the Keras API library\n",
    "# The rescale parameter is the scale the pixels to ensure the values are in [0, 1] range\n",
    "train_datagen = ImageDataGenerator( \n",
    "        rescale=1./255,\n",
    "        shear_range=0.2,\n",
    "        zoom_range=0.2,\n",
    "        horizontal_flip=True)\n",
    "\n",
    "# Load the training dataset\n",
    "train_set = train_datagen.flow_from_directory(\n",
    "        '../dataset/training_set',\n",
    "        target_size=(64, 64),\n",
    "        batch_size=32,\n",
    "        class_mode='binary')"
   ]
  },
  {
   "cell_type": "code",
   "execution_count": 21,
   "metadata": {},
   "outputs": [
    {
     "name": "stdout",
     "output_type": "stream",
     "text": [
      "Found 2000 images belonging to 2 classes.\n"
     ]
    }
   ],
   "source": [
    "# Preprocess the testing set\n",
    "test_datagen = ImageDataGenerator(rescale=1./255)\n",
    "\n",
    "test_set = test_datagen.flow_from_directory(\n",
    "        '../dataset/test_set/',\n",
    "        target_size=(64, 64),\n",
    "        batch_size=32,\n",
    "        class_mode='binary')"
   ]
  },
  {
   "cell_type": "code",
   "execution_count": 4,
   "metadata": {},
   "outputs": [],
   "source": [
    "# Build the CNN model\n",
    "\n",
    "from tensorflow.keras.models import Sequential\n",
    "from tensorflow.keras.layers import Dense\n",
    "from tensorflow.keras.layers import Conv2D\n",
    "from tensorflow.keras.layers import MaxPool2D\n",
    "from tensorflow.keras.layers import Flatten\n",
    "\n",
    "cnn = Sequential()\n",
    "cnn.add(Conv2D(filters=32, kernel_size=3, activation=\"relu\", input_shape=[64, 64, 3]))\n",
    "cnn.add(MaxPool2D(pool_size=2, strides=2))\n",
    "cnn.add(Conv2D(filters=32, kernel_size=3, activation=\"relu\"))\n",
    "cnn.add(MaxPool2D(pool_size=2, strides=2))\n",
    "cnn.add(Conv2D(filters=32, kernel_size=3, activation=\"relu\"))\n",
    "cnn.add(MaxPool2D(pool_size=2, strides=2))\n",
    "cnn.add(Flatten())\n",
    "cnn.add(Dense(units=128, activation=\"relu\"))\n",
    "cnn.add(Dense(units=1, activation=\"sigmoid\"))"
   ]
  },
  {
   "cell_type": "code",
   "execution_count": 5,
   "metadata": {},
   "outputs": [
    {
     "name": "stdout",
     "output_type": "stream",
     "text": [
      "WARNING:tensorflow:sample_weight modes were coerced from\n",
      "  ...\n",
      "    to  \n",
      "  ['...']\n",
      "WARNING:tensorflow:sample_weight modes were coerced from\n",
      "  ...\n",
      "    to  \n",
      "  ['...']\n",
      "Train for 250 steps, validate for 63 steps\n",
      "Epoch 1/25\n",
      "250/250 [==============================] - 31s 123ms/step - loss: 0.6803 - accuracy: 0.5514 - val_loss: 0.6420 - val_accuracy: 0.6380\n",
      "Epoch 2/25\n",
      "250/250 [==============================] - 31s 122ms/step - loss: 0.6148 - accuracy: 0.6626 - val_loss: 0.5961 - val_accuracy: 0.6865\n",
      "Epoch 3/25\n",
      "250/250 [==============================] - 31s 122ms/step - loss: 0.5660 - accuracy: 0.7044 - val_loss: 0.5420 - val_accuracy: 0.7205\n",
      "Epoch 4/25\n",
      "250/250 [==============================] - 31s 123ms/step - loss: 0.5316 - accuracy: 0.7354 - val_loss: 0.5185 - val_accuracy: 0.7495\n",
      "Epoch 5/25\n",
      "250/250 [==============================] - 31s 123ms/step - loss: 0.5078 - accuracy: 0.7495 - val_loss: 0.5218 - val_accuracy: 0.7375\n",
      "Epoch 6/25\n",
      "250/250 [==============================] - 31s 125ms/step - loss: 0.4911 - accuracy: 0.7614 - val_loss: 0.4760 - val_accuracy: 0.7735\n",
      "Epoch 7/25\n",
      "250/250 [==============================] - 30s 122ms/step - loss: 0.4618 - accuracy: 0.7774 - val_loss: 0.4528 - val_accuracy: 0.7895\n",
      "Epoch 8/25\n",
      "250/250 [==============================] - 30s 122ms/step - loss: 0.4533 - accuracy: 0.7837 - val_loss: 0.4289 - val_accuracy: 0.8070\n",
      "Epoch 9/25\n",
      "250/250 [==============================] - 32s 127ms/step - loss: 0.4370 - accuracy: 0.7969 - val_loss: 0.4253 - val_accuracy: 0.7995\n",
      "Epoch 10/25\n",
      "250/250 [==============================] - 30s 120ms/step - loss: 0.4229 - accuracy: 0.8031 - val_loss: 0.4146 - val_accuracy: 0.8080\n",
      "Epoch 11/25\n",
      "250/250 [==============================] - 30s 122ms/step - loss: 0.4188 - accuracy: 0.8085 - val_loss: 0.4254 - val_accuracy: 0.8105\n",
      "Epoch 12/25\n",
      "250/250 [==============================] - 30s 120ms/step - loss: 0.4024 - accuracy: 0.8151 - val_loss: 0.4252 - val_accuracy: 0.8105\n",
      "Epoch 13/25\n",
      "250/250 [==============================] - 30s 121ms/step - loss: 0.3919 - accuracy: 0.8199 - val_loss: 0.4306 - val_accuracy: 0.8045\n",
      "Epoch 14/25\n",
      "250/250 [==============================] - 30s 122ms/step - loss: 0.3822 - accuracy: 0.8271 - val_loss: 0.4297 - val_accuracy: 0.8005\n",
      "Epoch 15/25\n",
      "250/250 [==============================] - 30s 120ms/step - loss: 0.3688 - accuracy: 0.8314 - val_loss: 0.4321 - val_accuracy: 0.8120\n",
      "Epoch 16/25\n",
      "250/250 [==============================] - 30s 121ms/step - loss: 0.3680 - accuracy: 0.8326 - val_loss: 0.3983 - val_accuracy: 0.8205\n",
      "Epoch 17/25\n",
      "250/250 [==============================] - 30s 120ms/step - loss: 0.3445 - accuracy: 0.8481 - val_loss: 0.3895 - val_accuracy: 0.8380\n",
      "Epoch 18/25\n",
      "250/250 [==============================] - 30s 121ms/step - loss: 0.3385 - accuracy: 0.8457 - val_loss: 0.3883 - val_accuracy: 0.8245\n",
      "Epoch 19/25\n",
      "250/250 [==============================] - 30s 121ms/step - loss: 0.3329 - accuracy: 0.8514 - val_loss: 0.3883 - val_accuracy: 0.8225\n",
      "Epoch 20/25\n",
      "250/250 [==============================] - 31s 122ms/step - loss: 0.3274 - accuracy: 0.8549 - val_loss: 0.3858 - val_accuracy: 0.8255\n",
      "Epoch 21/25\n",
      "250/250 [==============================] - 31s 125ms/step - loss: 0.3141 - accuracy: 0.8633 - val_loss: 0.3990 - val_accuracy: 0.8285\n",
      "Epoch 22/25\n",
      "250/250 [==============================] - 31s 124ms/step - loss: 0.3116 - accuracy: 0.8594 - val_loss: 0.4157 - val_accuracy: 0.8245\n",
      "Epoch 23/25\n",
      "250/250 [==============================] - 30s 121ms/step - loss: 0.3047 - accuracy: 0.8636 - val_loss: 0.3819 - val_accuracy: 0.8350\n",
      "Epoch 24/25\n",
      "250/250 [==============================] - 30s 120ms/step - loss: 0.2888 - accuracy: 0.8725 - val_loss: 0.3937 - val_accuracy: 0.8355\n",
      "Epoch 25/25\n",
      "250/250 [==============================] - 30s 118ms/step - loss: 0.2765 - accuracy: 0.8806 - val_loss: 0.3784 - val_accuracy: 0.8375\n"
     ]
    },
    {
     "data": {
      "text/plain": [
       "<tensorflow.python.keras.callbacks.History at 0x238ca92e5c8>"
      ]
     },
     "execution_count": 5,
     "metadata": {},
     "output_type": "execute_result"
    }
   ],
   "source": [
    "# Compile the CNN\n",
    "cnn.compile(optimizer=\"adam\", loss=\"binary_crossentropy\", metrics=['accuracy'])\n",
    "cnn.fit(x=train_set, validation_data=test_set, epochs=25)"
   ]
  },
  {
   "cell_type": "code",
   "execution_count": 7,
   "metadata": {},
   "outputs": [],
   "source": [
    "# Making a single prediction\n",
    "\n",
    "from keras.preprocessing import image\n",
    "\n",
    "test_image = image.load_img('../dataset/single_prediction/cat_or_dog_1.jpg', target_size=(64,64))\n",
    "test_image = image.img_to_array(test_image)\n",
    "test_image = np.expand_dims(test_image, axis=0)\n",
    "result = cnn.predict(test_image)\n",
    "train_set.class_indices\n",
    "if result[0][0] == 1:\n",
    "    prediction = 'dog'\n",
    "else:\n",
    "    prediction = 'cat'"
   ]
  },
  {
   "cell_type": "code",
   "execution_count": 8,
   "metadata": {},
   "outputs": [
    {
     "name": "stdout",
     "output_type": "stream",
     "text": [
      "dog\n"
     ]
    }
   ],
   "source": [
    "print(prediction)"
   ]
  },
  {
   "cell_type": "code",
   "execution_count": 11,
   "metadata": {},
   "outputs": [
    {
     "data": {
      "image/png": "[encoded data removed]",
      "text/plain": [
       "<Figure size 432x288 with 1 Axes>"
      ]
     },
     "metadata": {
      "needs_background": "light"
     },
     "output_type": "display_data"
    }
   ],
   "source": [
    "model_history = cnn.history.history\n",
    "\n",
    "import matplotlib.pyplot as plt\n",
    "plt.plot(model_history['loss'], label=\"loss\")\n",
    "plt.plot(model_history['val_loss'], label=\"validation loss\")\n",
    "plt.show()"
   ]
  },
  {
   "cell_type": "code",
   "execution_count": 10,
   "metadata": {},
   "outputs": [
    {
     "data": {
      "image/png": "[encoded data removed]",
      "text/plain": [
       "<Figure size 432x288 with 1 Axes>"
      ]
     },
     "metadata": {
      "needs_background": "light"
     },
     "output_type": "display_data"
    }
   ],
   "source": [
    "plt.plot(model_history['accuracy'], label=\"accuracy\")\n",
    "plt.plot(model_history['val_accuracy'], label=\"validation accuracy\")\n",
    "plt.show()"
   ]
  },
  {
   "cell_type": "code",
   "execution_count": null,
   "metadata": {},
   "outputs": [],
   "source": []
  }
 ],
 "metadata": {
  "kernelspec": {
   "display_name": "Python 3",
   "language": "python",
   "name": "python3"
  },
  "language_info": {
   "codemirror_mode": {
    "name": "ipython",
    "version": 3
   },
   "file_extension": ".py",
   "mimetype": "text/x-python",
   "name": "python",
   "nbconvert_exporter": "python",
   "pygments_lexer": "ipython3",
   "version": "3.7.4"
  }
 },
 "nbformat": 4,
 "nbformat_minor": 2
}
