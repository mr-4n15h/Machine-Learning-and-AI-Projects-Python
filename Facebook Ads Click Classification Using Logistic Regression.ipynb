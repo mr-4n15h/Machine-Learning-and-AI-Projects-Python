{
 "cells": [
  {
   "cell_type": "code",
   "execution_count": 1,
   "metadata": {},
   "outputs": [],
   "source": [
    "import numpy as np\n",
    "import pandas as pd\n",
    "import matplotlib.pyplot as plt\n",
    "import seaborn as sns\n",
    "%matplotlib inline"
   ]
  },
  {
   "cell_type": "markdown",
   "metadata": {},
   "source": [
    "### Importing Data"
   ]
  },
  {
   "cell_type": "code",
   "execution_count": 2,
   "metadata": {},
   "outputs": [
    {
     "data": {
      "text/html": [
       "<div>\n",
       "<style scoped>\n",
       "    .dataframe tbody tr th:only-of-type {\n",
       "        vertical-align: middle;\n",
       "    }\n",
       "\n",
       "    .dataframe tbody tr th {\n",
       "        vertical-align: top;\n",
       "    }\n",
       "\n",
       "    .dataframe thead th {\n",
       "        text-align: right;\n",
       "    }\n",
       "</style>\n",
       "<table border=\"1\" class=\"dataframe\">\n",
       "  <thead>\n",
       "    <tr style=\"text-align: right;\">\n",
       "      <th></th>\n",
       "      <th>Names</th>\n",
       "      <th>emails</th>\n",
       "      <th>Country</th>\n",
       "      <th>Time Spent on Site</th>\n",
       "      <th>Salary</th>\n",
       "      <th>Clicked</th>\n",
       "    </tr>\n",
       "  </thead>\n",
       "  <tbody>\n",
       "    <tr>\n",
       "      <td>0</td>\n",
       "      <td>Martina Avila</td>\n",
       "      <td>cubilia.Curae.Phasellus@quisaccumsanconvallis.edu</td>\n",
       "      <td>Bulgaria</td>\n",
       "      <td>25.649648</td>\n",
       "      <td>55330.06006</td>\n",
       "      <td>0</td>\n",
       "    </tr>\n",
       "    <tr>\n",
       "      <td>1</td>\n",
       "      <td>Harlan Barnes</td>\n",
       "      <td>eu.dolor@diam.co.uk</td>\n",
       "      <td>Belize</td>\n",
       "      <td>32.456107</td>\n",
       "      <td>79049.07674</td>\n",
       "      <td>1</td>\n",
       "    </tr>\n",
       "    <tr>\n",
       "      <td>2</td>\n",
       "      <td>Naomi Rodriquez</td>\n",
       "      <td>vulputate.mauris.sagittis@ametconsectetueradip...</td>\n",
       "      <td>Algeria</td>\n",
       "      <td>20.945978</td>\n",
       "      <td>41098.60826</td>\n",
       "      <td>0</td>\n",
       "    </tr>\n",
       "    <tr>\n",
       "      <td>3</td>\n",
       "      <td>Jade Cunningham</td>\n",
       "      <td>malesuada@dignissim.com</td>\n",
       "      <td>Cook Islands</td>\n",
       "      <td>54.039325</td>\n",
       "      <td>37143.35536</td>\n",
       "      <td>1</td>\n",
       "    </tr>\n",
       "    <tr>\n",
       "      <td>4</td>\n",
       "      <td>Cedric Leach</td>\n",
       "      <td>felis.ullamcorper.viverra@egetmollislectus.net</td>\n",
       "      <td>Brazil</td>\n",
       "      <td>34.249729</td>\n",
       "      <td>37355.11276</td>\n",
       "      <td>0</td>\n",
       "    </tr>\n",
       "  </tbody>\n",
       "</table>\n",
       "</div>"
      ],
      "text/plain": [
       "             Names                                             emails  \\\n",
       "0    Martina Avila  cubilia.Curae.Phasellus@quisaccumsanconvallis.edu   \n",
       "1    Harlan Barnes                                eu.dolor@diam.co.uk   \n",
       "2  Naomi Rodriquez  vulputate.mauris.sagittis@ametconsectetueradip...   \n",
       "3  Jade Cunningham                            malesuada@dignissim.com   \n",
       "4     Cedric Leach     felis.ullamcorper.viverra@egetmollislectus.net   \n",
       "\n",
       "        Country  Time Spent on Site       Salary  Clicked  \n",
       "0      Bulgaria           25.649648  55330.06006        0  \n",
       "1        Belize           32.456107  79049.07674        1  \n",
       "2       Algeria           20.945978  41098.60826        0  \n",
       "3  Cook Islands           54.039325  37143.35536        1  \n",
       "4        Brazil           34.249729  37355.11276        0  "
      ]
     },
     "execution_count": 2,
     "metadata": {},
     "output_type": "execute_result"
    }
   ],
   "source": [
    "data = pd.read_csv('Facebook_Ads_2.csv', encoding = \"ISO-8859-1\")\n",
    "data.head()"
   ]
  },
  {
   "cell_type": "code",
   "execution_count": 3,
   "metadata": {},
   "outputs": [
    {
     "data": {
      "text/html": [
       "<div>\n",
       "<style scoped>\n",
       "    .dataframe tbody tr th:only-of-type {\n",
       "        vertical-align: middle;\n",
       "    }\n",
       "\n",
       "    .dataframe tbody tr th {\n",
       "        vertical-align: top;\n",
       "    }\n",
       "\n",
       "    .dataframe thead th {\n",
       "        text-align: right;\n",
       "    }\n",
       "</style>\n",
       "<table border=\"1\" class=\"dataframe\">\n",
       "  <thead>\n",
       "    <tr style=\"text-align: right;\">\n",
       "      <th></th>\n",
       "      <th>Names</th>\n",
       "      <th>emails</th>\n",
       "      <th>Country</th>\n",
       "      <th>Time Spent on Site</th>\n",
       "      <th>Salary</th>\n",
       "      <th>Clicked</th>\n",
       "    </tr>\n",
       "  </thead>\n",
       "  <tbody>\n",
       "    <tr>\n",
       "      <td>494</td>\n",
       "      <td>Rigel</td>\n",
       "      <td>egestas.blandit.Nam@semvitaealiquam.com</td>\n",
       "      <td>Sao Tome and Principe</td>\n",
       "      <td>19.222746</td>\n",
       "      <td>44969.13495</td>\n",
       "      <td>0</td>\n",
       "    </tr>\n",
       "    <tr>\n",
       "      <td>495</td>\n",
       "      <td>Walter</td>\n",
       "      <td>ligula@Cumsociis.ca</td>\n",
       "      <td>Nepal</td>\n",
       "      <td>22.665662</td>\n",
       "      <td>41686.20425</td>\n",
       "      <td>0</td>\n",
       "    </tr>\n",
       "    <tr>\n",
       "      <td>496</td>\n",
       "      <td>Vanna</td>\n",
       "      <td>Cum.sociis.natoque@Sedmolestie.edu</td>\n",
       "      <td>Zimbabwe</td>\n",
       "      <td>35.320239</td>\n",
       "      <td>23989.80864</td>\n",
       "      <td>0</td>\n",
       "    </tr>\n",
       "    <tr>\n",
       "      <td>497</td>\n",
       "      <td>Pearl</td>\n",
       "      <td>penatibus.et@massanonante.com</td>\n",
       "      <td>Philippines</td>\n",
       "      <td>26.539170</td>\n",
       "      <td>31708.57054</td>\n",
       "      <td>0</td>\n",
       "    </tr>\n",
       "    <tr>\n",
       "      <td>498</td>\n",
       "      <td>Nell</td>\n",
       "      <td>Quisque.varius@arcuVivamussit.net</td>\n",
       "      <td>Botswana</td>\n",
       "      <td>32.386148</td>\n",
       "      <td>74331.35442</td>\n",
       "      <td>1</td>\n",
       "    </tr>\n",
       "  </tbody>\n",
       "</table>\n",
       "</div>"
      ],
      "text/plain": [
       "      Names                                   emails                Country  \\\n",
       "494   Rigel  egestas.blandit.Nam@semvitaealiquam.com  Sao Tome and Principe   \n",
       "495  Walter                      ligula@Cumsociis.ca                  Nepal   \n",
       "496   Vanna       Cum.sociis.natoque@Sedmolestie.edu               Zimbabwe   \n",
       "497   Pearl            penatibus.et@massanonante.com            Philippines   \n",
       "498    Nell        Quisque.varius@arcuVivamussit.net               Botswana   \n",
       "\n",
       "     Time Spent on Site       Salary  Clicked  \n",
       "494           19.222746  44969.13495        0  \n",
       "495           22.665662  41686.20425        0  \n",
       "496           35.320239  23989.80864        0  \n",
       "497           26.539170  31708.57054        0  \n",
       "498           32.386148  74331.35442        1  "
      ]
     },
     "execution_count": 3,
     "metadata": {},
     "output_type": "execute_result"
    }
   ],
   "source": [
    "data.tail()"
   ]
  },
  {
   "cell_type": "code",
   "execution_count": 4,
   "metadata": {},
   "outputs": [
    {
     "name": "stdout",
     "output_type": "stream",
     "text": [
      "<class 'pandas.core.frame.DataFrame'>\n",
      "RangeIndex: 499 entries, 0 to 498\n",
      "Data columns (total 6 columns):\n",
      "Names                 499 non-null object\n",
      "emails                499 non-null object\n",
      "Country               499 non-null object\n",
      "Time Spent on Site    499 non-null float64\n",
      "Salary                499 non-null float64\n",
      "Clicked               499 non-null int64\n",
      "dtypes: float64(2), int64(1), object(3)\n",
      "memory usage: 23.5+ KB\n"
     ]
    }
   ],
   "source": [
    "# The dataset contains 499 rows of data\n",
    "data.info()"
   ]
  },
  {
   "cell_type": "code",
   "execution_count": 5,
   "metadata": {},
   "outputs": [
    {
     "data": {
      "text/html": [
       "<div>\n",
       "<style scoped>\n",
       "    .dataframe tbody tr th:only-of-type {\n",
       "        vertical-align: middle;\n",
       "    }\n",
       "\n",
       "    .dataframe tbody tr th {\n",
       "        vertical-align: top;\n",
       "    }\n",
       "\n",
       "    .dataframe thead th {\n",
       "        text-align: right;\n",
       "    }\n",
       "</style>\n",
       "<table border=\"1\" class=\"dataframe\">\n",
       "  <thead>\n",
       "    <tr style=\"text-align: right;\">\n",
       "      <th></th>\n",
       "      <th>Time Spent on Site</th>\n",
       "      <th>Salary</th>\n",
       "      <th>Clicked</th>\n",
       "    </tr>\n",
       "  </thead>\n",
       "  <tbody>\n",
       "    <tr>\n",
       "      <td>count</td>\n",
       "      <td>499.000000</td>\n",
       "      <td>499.000000</td>\n",
       "      <td>499.000000</td>\n",
       "    </tr>\n",
       "    <tr>\n",
       "      <td>mean</td>\n",
       "      <td>32.920178</td>\n",
       "      <td>52896.992469</td>\n",
       "      <td>0.501002</td>\n",
       "    </tr>\n",
       "    <tr>\n",
       "      <td>std</td>\n",
       "      <td>9.103455</td>\n",
       "      <td>18989.183150</td>\n",
       "      <td>0.500501</td>\n",
       "    </tr>\n",
       "    <tr>\n",
       "      <td>min</td>\n",
       "      <td>5.000000</td>\n",
       "      <td>20.000000</td>\n",
       "      <td>0.000000</td>\n",
       "    </tr>\n",
       "    <tr>\n",
       "      <td>25%</td>\n",
       "      <td>26.425044</td>\n",
       "      <td>38888.117260</td>\n",
       "      <td>0.000000</td>\n",
       "    </tr>\n",
       "    <tr>\n",
       "      <td>50%</td>\n",
       "      <td>33.196067</td>\n",
       "      <td>52840.913110</td>\n",
       "      <td>1.000000</td>\n",
       "    </tr>\n",
       "    <tr>\n",
       "      <td>75%</td>\n",
       "      <td>39.114995</td>\n",
       "      <td>65837.288190</td>\n",
       "      <td>1.000000</td>\n",
       "    </tr>\n",
       "    <tr>\n",
       "      <td>max</td>\n",
       "      <td>60.000000</td>\n",
       "      <td>100000.000000</td>\n",
       "      <td>1.000000</td>\n",
       "    </tr>\n",
       "  </tbody>\n",
       "</table>\n",
       "</div>"
      ],
      "text/plain": [
       "       Time Spent on Site         Salary     Clicked\n",
       "count          499.000000     499.000000  499.000000\n",
       "mean            32.920178   52896.992469    0.501002\n",
       "std              9.103455   18989.183150    0.500501\n",
       "min              5.000000      20.000000    0.000000\n",
       "25%             26.425044   38888.117260    0.000000\n",
       "50%             33.196067   52840.913110    1.000000\n",
       "75%             39.114995   65837.288190    1.000000\n",
       "max             60.000000  100000.000000    1.000000"
      ]
     },
     "execution_count": 5,
     "metadata": {},
     "output_type": "execute_result"
    }
   ],
   "source": [
    "data.describe()"
   ]
  },
  {
   "cell_type": "code",
   "execution_count": 6,
   "metadata": {},
   "outputs": [
    {
     "data": {
      "text/plain": [
       "(499, 6)"
      ]
     },
     "execution_count": 6,
     "metadata": {},
     "output_type": "execute_result"
    }
   ],
   "source": [
    "data.shape "
   ]
  },
  {
   "cell_type": "code",
   "execution_count": 7,
   "metadata": {},
   "outputs": [
    {
     "data": {
      "text/plain": [
       "Names                  object\n",
       "emails                 object\n",
       "Country                object\n",
       "Time Spent on Site    float64\n",
       "Salary                float64\n",
       "Clicked                 int64\n",
       "dtype: object"
      ]
     },
     "execution_count": 7,
     "metadata": {},
     "output_type": "execute_result"
    }
   ],
   "source": [
    "# Three features are of type object\n",
    "data.dtypes"
   ]
  },
  {
   "cell_type": "code",
   "execution_count": 8,
   "metadata": {},
   "outputs": [
    {
     "data": {
      "text/plain": [
       "210"
      ]
     },
     "execution_count": 8,
     "metadata": {},
     "output_type": "execute_result"
    }
   ],
   "source": [
    "# How many countries are there?\n",
    "# There are 210 different countries...\n",
    "# Encoding the Country feature can be done... but i don't see a point here\n",
    "len(data['Country'].unique())"
   ]
  },
  {
   "cell_type": "code",
   "execution_count": 9,
   "metadata": {},
   "outputs": [],
   "source": [
    "ads_clicked = data[data['Clicked'] == 1]\n",
    "ads_not_clicked = data[data['Clicked'] == 0]"
   ]
  },
  {
   "cell_type": "code",
   "execution_count": 10,
   "metadata": {
    "scrolled": true
   },
   "outputs": [
    {
     "name": "stdout",
     "output_type": "stream",
     "text": [
      "Ads clicked: 250\n",
      "Ads not clicked: 249\n",
      "Ads clicked percentage: 50.10%\n",
      "Ads not clicked percentage: 49.90%\n"
     ]
    }
   ],
   "source": [
    "# Seems like a balanced dataset\n",
    "print(f'Ads clicked: {len(ads_clicked)}')\n",
    "print(f'Ads not clicked: {len(ads_not_clicked)}')\n",
    "print(f'Ads clicked percentage: {len(ads_clicked) / len(data) * 100:.2f}%')\n",
    "print(f'Ads not clicked percentage: {len(ads_not_clicked) / len(data) * 100:.2f}%')"
   ]
  },
  {
   "cell_type": "code",
   "execution_count": 11,
   "metadata": {},
   "outputs": [
    {
     "data": {
      "text/plain": [
       "Names                 0\n",
       "emails                0\n",
       "Country               0\n",
       "Time Spent on Site    0\n",
       "Salary                0\n",
       "Clicked               0\n",
       "dtype: int64"
      ]
     },
     "execution_count": 11,
     "metadata": {},
     "output_type": "execute_result"
    }
   ],
   "source": [
    "# Check for nulls \n",
    "# No missing data\n",
    "data.isna().sum()"
   ]
  },
  {
   "cell_type": "markdown",
   "metadata": {},
   "source": [
    "### Data Visualisation"
   ]
  },
  {
   "cell_type": "code",
   "execution_count": 12,
   "metadata": {},
   "outputs": [
    {
     "data": {
      "image/png": "[encoded data removed]",
      "text/plain": [
       "<Figure size 720x576 with 2 Axes>"
      ]
     },
     "metadata": {
      "needs_background": "light"
     },
     "output_type": "display_data"
    }
   ],
   "source": [
    "# Let's check which features are highly correlated to the 'Clicked' feature\n",
    "plt.figure(figsize=(10, 8))\n",
    "sns.heatmap(data.corr(), annot=True)\n",
    "b, t = plt.ylim() # discover the values for bottom and top\n",
    "b += 0.5 # Add 0.5 to the bottom\n",
    "t -= 0.5 # Subtract 0.5 from the top\n",
    "plt.ylim(b, t) # update the ylim(bottom, top) values\n",
    "plt.show() # ta-da!"
   ]
  },
  {
   "cell_type": "code",
   "execution_count": 13,
   "metadata": {},
   "outputs": [
    {
     "data": {
      "text/plain": [
       "Time Spent on Site    0.650781\n",
       "Salary                0.654654\n",
       "Clicked               1.000000\n",
       "Name: Clicked, dtype: float64"
      ]
     },
     "execution_count": 13,
     "metadata": {},
     "output_type": "execute_result"
    }
   ],
   "source": [
    "# Time Spent on Site and Salary are highly correlated\n",
    "# with the target feature\n",
    "data.corr()['Clicked']"
   ]
  },
  {
   "cell_type": "code",
   "execution_count": 14,
   "metadata": {},
   "outputs": [
    {
     "data": {
      "text/plain": [
       "<matplotlib.axes._subplots.AxesSubplot at 0x225e9e8ebc8>"
      ]
     },
     "execution_count": 14,
     "metadata": {},
     "output_type": "execute_result"
    },
    {
     "data": {
      "image/png": "[encoded data removed]",
      "text/plain": [
       "<Figure size 432x288 with 1 Axes>"
      ]
     },
     "metadata": {
      "needs_background": "light"
     },
     "output_type": "display_data"
    }
   ],
   "source": [
    "# Interesting scatterplot...\n",
    "# The higher the salary, the higher the time spent on site\n",
    "# therefore, the more the chance of clicking the ads on site\n",
    "sns.scatterplot('Salary', 'Time Spent on Site', hue='Clicked', data=data)"
   ]
  },
  {
   "cell_type": "code",
   "execution_count": 15,
   "metadata": {},
   "outputs": [
    {
     "data": {
      "text/plain": [
       "<matplotlib.axes._subplots.AxesSubplot at 0x225e9d03308>"
      ]
     },
     "execution_count": 15,
     "metadata": {},
     "output_type": "execute_result"
    },
    {
     "data": {
      "image/png": "[encoded data removed]",
      "text/plain": [
       "<Figure size 432x288 with 1 Axes>"
      ]
     },
     "metadata": {
      "needs_background": "light"
     },
     "output_type": "display_data"
    }
   ],
   "source": [
    "# Check the distribution salary of the people\n",
    "# A lot of users have a salary of 50000\n",
    "data['Salary'].hist(bins=20)"
   ]
  },
  {
   "cell_type": "code",
   "execution_count": 16,
   "metadata": {},
   "outputs": [
    {
     "data": {
      "text/plain": [
       "<matplotlib.axes._subplots.AxesSubplot at 0x225e9da4f88>"
      ]
     },
     "execution_count": 16,
     "metadata": {},
     "output_type": "execute_result"
    },
    {
     "data": {
      "image/png": "[encoded data removed]",
      "text/plain": [
       "<Figure size 432x288 with 1 Axes>"
      ]
     },
     "metadata": {
      "needs_background": "light"
     },
     "output_type": "display_data"
    }
   ],
   "source": [
    "# A lot of users spend 30 hours on site\n",
    "data['Time Spent on Site'].hist(bins=30)"
   ]
  },
  {
   "cell_type": "code",
   "execution_count": 17,
   "metadata": {},
   "outputs": [
    {
     "data": {
      "text/plain": [
       "<matplotlib.axes._subplots.AxesSubplot at 0x225e9f13588>"
      ]
     },
     "execution_count": 17,
     "metadata": {},
     "output_type": "execute_result"
    },
    {
     "data": {
      "image/png": "[encoded data removed]",
      "text/plain": [
       "<Figure size 432x288 with 1 Axes>"
      ]
     },
     "metadata": {
      "needs_background": "light"
     },
     "output_type": "display_data"
    }
   ],
   "source": [
    "# The higher the salary, the higher the chance of clicking the ads on site\n",
    "sns.boxplot('Clicked', 'Salary', data=data)"
   ]
  },
  {
   "cell_type": "code",
   "execution_count": 18,
   "metadata": {},
   "outputs": [
    {
     "data": {
      "text/plain": [
       "<matplotlib.axes._subplots.AxesSubplot at 0x225e9f9a608>"
      ]
     },
     "execution_count": 18,
     "metadata": {},
     "output_type": "execute_result"
    },
    {
     "data": {
      "image/png": "[encoded data removed]",
      "text/plain": [
       "<Figure size 432x288 with 1 Axes>"
      ]
     },
     "metadata": {
      "needs_background": "light"
     },
     "output_type": "display_data"
    }
   ],
   "source": [
    "# On average, the users who clicked on ads spend about 40 hours on site \n",
    "sns.boxplot('Clicked', 'Time Spent on Site', data=data)"
   ]
  },
  {
   "cell_type": "markdown",
   "metadata": {},
   "source": [
    "### Feature Engineering"
   ]
  },
  {
   "cell_type": "code",
   "execution_count": 19,
   "metadata": {},
   "outputs": [
    {
     "data": {
      "text/html": [
       "<div>\n",
       "<style scoped>\n",
       "    .dataframe tbody tr th:only-of-type {\n",
       "        vertical-align: middle;\n",
       "    }\n",
       "\n",
       "    .dataframe tbody tr th {\n",
       "        vertical-align: top;\n",
       "    }\n",
       "\n",
       "    .dataframe thead th {\n",
       "        text-align: right;\n",
       "    }\n",
       "</style>\n",
       "<table border=\"1\" class=\"dataframe\">\n",
       "  <thead>\n",
       "    <tr style=\"text-align: right;\">\n",
       "      <th></th>\n",
       "      <th>Names</th>\n",
       "      <th>emails</th>\n",
       "      <th>Country</th>\n",
       "      <th>Time Spent on Site</th>\n",
       "      <th>Salary</th>\n",
       "      <th>Clicked</th>\n",
       "    </tr>\n",
       "  </thead>\n",
       "  <tbody>\n",
       "    <tr>\n",
       "      <td>0</td>\n",
       "      <td>Martina Avila</td>\n",
       "      <td>cubilia.Curae.Phasellus@quisaccumsanconvallis.edu</td>\n",
       "      <td>Bulgaria</td>\n",
       "      <td>25.649648</td>\n",
       "      <td>55330.06006</td>\n",
       "      <td>0</td>\n",
       "    </tr>\n",
       "    <tr>\n",
       "      <td>1</td>\n",
       "      <td>Harlan Barnes</td>\n",
       "      <td>eu.dolor@diam.co.uk</td>\n",
       "      <td>Belize</td>\n",
       "      <td>32.456107</td>\n",
       "      <td>79049.07674</td>\n",
       "      <td>1</td>\n",
       "    </tr>\n",
       "    <tr>\n",
       "      <td>2</td>\n",
       "      <td>Naomi Rodriquez</td>\n",
       "      <td>vulputate.mauris.sagittis@ametconsectetueradip...</td>\n",
       "      <td>Algeria</td>\n",
       "      <td>20.945978</td>\n",
       "      <td>41098.60826</td>\n",
       "      <td>0</td>\n",
       "    </tr>\n",
       "    <tr>\n",
       "      <td>3</td>\n",
       "      <td>Jade Cunningham</td>\n",
       "      <td>malesuada@dignissim.com</td>\n",
       "      <td>Cook Islands</td>\n",
       "      <td>54.039325</td>\n",
       "      <td>37143.35536</td>\n",
       "      <td>1</td>\n",
       "    </tr>\n",
       "    <tr>\n",
       "      <td>4</td>\n",
       "      <td>Cedric Leach</td>\n",
       "      <td>felis.ullamcorper.viverra@egetmollislectus.net</td>\n",
       "      <td>Brazil</td>\n",
       "      <td>34.249729</td>\n",
       "      <td>37355.11276</td>\n",
       "      <td>0</td>\n",
       "    </tr>\n",
       "  </tbody>\n",
       "</table>\n",
       "</div>"
      ],
      "text/plain": [
       "             Names                                             emails  \\\n",
       "0    Martina Avila  cubilia.Curae.Phasellus@quisaccumsanconvallis.edu   \n",
       "1    Harlan Barnes                                eu.dolor@diam.co.uk   \n",
       "2  Naomi Rodriquez  vulputate.mauris.sagittis@ametconsectetueradip...   \n",
       "3  Jade Cunningham                            malesuada@dignissim.com   \n",
       "4     Cedric Leach     felis.ullamcorper.viverra@egetmollislectus.net   \n",
       "\n",
       "        Country  Time Spent on Site       Salary  Clicked  \n",
       "0      Bulgaria           25.649648  55330.06006        0  \n",
       "1        Belize           32.456107  79049.07674        1  \n",
       "2       Algeria           20.945978  41098.60826        0  \n",
       "3  Cook Islands           54.039325  37143.35536        1  \n",
       "4        Brazil           34.249729  37355.11276        0  "
      ]
     },
     "execution_count": 19,
     "metadata": {},
     "output_type": "execute_result"
    }
   ],
   "source": [
    "data.head()"
   ]
  },
  {
   "cell_type": "code",
   "execution_count": 20,
   "metadata": {},
   "outputs": [
    {
     "data": {
      "text/html": [
       "<div>\n",
       "<style scoped>\n",
       "    .dataframe tbody tr th:only-of-type {\n",
       "        vertical-align: middle;\n",
       "    }\n",
       "\n",
       "    .dataframe tbody tr th {\n",
       "        vertical-align: top;\n",
       "    }\n",
       "\n",
       "    .dataframe thead th {\n",
       "        text-align: right;\n",
       "    }\n",
       "</style>\n",
       "<table border=\"1\" class=\"dataframe\">\n",
       "  <thead>\n",
       "    <tr style=\"text-align: right;\">\n",
       "      <th></th>\n",
       "      <th>Time Spent on Site</th>\n",
       "      <th>Salary</th>\n",
       "      <th>Clicked</th>\n",
       "    </tr>\n",
       "  </thead>\n",
       "  <tbody>\n",
       "    <tr>\n",
       "      <td>0</td>\n",
       "      <td>25.649648</td>\n",
       "      <td>55330.06006</td>\n",
       "      <td>0</td>\n",
       "    </tr>\n",
       "    <tr>\n",
       "      <td>1</td>\n",
       "      <td>32.456107</td>\n",
       "      <td>79049.07674</td>\n",
       "      <td>1</td>\n",
       "    </tr>\n",
       "    <tr>\n",
       "      <td>2</td>\n",
       "      <td>20.945978</td>\n",
       "      <td>41098.60826</td>\n",
       "      <td>0</td>\n",
       "    </tr>\n",
       "    <tr>\n",
       "      <td>3</td>\n",
       "      <td>54.039325</td>\n",
       "      <td>37143.35536</td>\n",
       "      <td>1</td>\n",
       "    </tr>\n",
       "    <tr>\n",
       "      <td>4</td>\n",
       "      <td>34.249729</td>\n",
       "      <td>37355.11276</td>\n",
       "      <td>0</td>\n",
       "    </tr>\n",
       "  </tbody>\n",
       "</table>\n",
       "</div>"
      ],
      "text/plain": [
       "   Time Spent on Site       Salary  Clicked\n",
       "0           25.649648  55330.06006        0\n",
       "1           32.456107  79049.07674        1\n",
       "2           20.945978  41098.60826        0\n",
       "3           54.039325  37143.35536        1\n",
       "4           34.249729  37355.11276        0"
      ]
     },
     "execution_count": 20,
     "metadata": {},
     "output_type": "execute_result"
    }
   ],
   "source": [
    "# Let's remove the useless features that will not help us to predict the target feature\n",
    "data.drop(['Names', 'emails', 'Country'], axis=1, inplace=True)\n",
    "data.head()"
   ]
  },
  {
   "cell_type": "markdown",
   "metadata": {},
   "source": [
    "### Data Preparation and Training"
   ]
  },
  {
   "cell_type": "code",
   "execution_count": 21,
   "metadata": {},
   "outputs": [
    {
     "data": {
      "text/html": [
       "<div>\n",
       "<style scoped>\n",
       "    .dataframe tbody tr th:only-of-type {\n",
       "        vertical-align: middle;\n",
       "    }\n",
       "\n",
       "    .dataframe tbody tr th {\n",
       "        vertical-align: top;\n",
       "    }\n",
       "\n",
       "    .dataframe thead th {\n",
       "        text-align: right;\n",
       "    }\n",
       "</style>\n",
       "<table border=\"1\" class=\"dataframe\">\n",
       "  <thead>\n",
       "    <tr style=\"text-align: right;\">\n",
       "      <th></th>\n",
       "      <th>Time Spent on Site</th>\n",
       "      <th>Salary</th>\n",
       "    </tr>\n",
       "  </thead>\n",
       "  <tbody>\n",
       "    <tr>\n",
       "      <td>0</td>\n",
       "      <td>25.649648</td>\n",
       "      <td>55330.06006</td>\n",
       "    </tr>\n",
       "    <tr>\n",
       "      <td>1</td>\n",
       "      <td>32.456107</td>\n",
       "      <td>79049.07674</td>\n",
       "    </tr>\n",
       "    <tr>\n",
       "      <td>2</td>\n",
       "      <td>20.945978</td>\n",
       "      <td>41098.60826</td>\n",
       "    </tr>\n",
       "    <tr>\n",
       "      <td>3</td>\n",
       "      <td>54.039325</td>\n",
       "      <td>37143.35536</td>\n",
       "    </tr>\n",
       "    <tr>\n",
       "      <td>4</td>\n",
       "      <td>34.249729</td>\n",
       "      <td>37355.11276</td>\n",
       "    </tr>\n",
       "    <tr>\n",
       "      <td>...</td>\n",
       "      <td>...</td>\n",
       "      <td>...</td>\n",
       "    </tr>\n",
       "    <tr>\n",
       "      <td>494</td>\n",
       "      <td>19.222746</td>\n",
       "      <td>44969.13495</td>\n",
       "    </tr>\n",
       "    <tr>\n",
       "      <td>495</td>\n",
       "      <td>22.665662</td>\n",
       "      <td>41686.20425</td>\n",
       "    </tr>\n",
       "    <tr>\n",
       "      <td>496</td>\n",
       "      <td>35.320239</td>\n",
       "      <td>23989.80864</td>\n",
       "    </tr>\n",
       "    <tr>\n",
       "      <td>497</td>\n",
       "      <td>26.539170</td>\n",
       "      <td>31708.57054</td>\n",
       "    </tr>\n",
       "    <tr>\n",
       "      <td>498</td>\n",
       "      <td>32.386148</td>\n",
       "      <td>74331.35442</td>\n",
       "    </tr>\n",
       "  </tbody>\n",
       "</table>\n",
       "<p>499 rows × 2 columns</p>\n",
       "</div>"
      ],
      "text/plain": [
       "     Time Spent on Site       Salary\n",
       "0             25.649648  55330.06006\n",
       "1             32.456107  79049.07674\n",
       "2             20.945978  41098.60826\n",
       "3             54.039325  37143.35536\n",
       "4             34.249729  37355.11276\n",
       "..                  ...          ...\n",
       "494           19.222746  44969.13495\n",
       "495           22.665662  41686.20425\n",
       "496           35.320239  23989.80864\n",
       "497           26.539170  31708.57054\n",
       "498           32.386148  74331.35442\n",
       "\n",
       "[499 rows x 2 columns]"
      ]
     },
     "execution_count": 21,
     "metadata": {},
     "output_type": "execute_result"
    }
   ],
   "source": [
    "# No categorical features here\n",
    "# Split the data into training and testing\n",
    "\n",
    "X = data.drop('Clicked', axis=1)\n",
    "X"
   ]
  },
  {
   "cell_type": "code",
   "execution_count": 22,
   "metadata": {},
   "outputs": [
    {
     "data": {
      "text/plain": [
       "0      0\n",
       "1      1\n",
       "2      0\n",
       "3      1\n",
       "4      0\n",
       "      ..\n",
       "494    0\n",
       "495    0\n",
       "496    0\n",
       "497    0\n",
       "498    1\n",
       "Name: Clicked, Length: 499, dtype: int64"
      ]
     },
     "execution_count": 22,
     "metadata": {},
     "output_type": "execute_result"
    }
   ],
   "source": [
    "y = data['Clicked']\n",
    "y"
   ]
  },
  {
   "cell_type": "code",
   "execution_count": 23,
   "metadata": {},
   "outputs": [
    {
     "data": {
      "text/plain": [
       "(((399, 2), (399,)), ((100, 2), (100,)))"
      ]
     },
     "execution_count": 23,
     "metadata": {},
     "output_type": "execute_result"
    }
   ],
   "source": [
    "# Split the data into training and testing\n",
    "from sklearn.model_selection import train_test_split\n",
    "\n",
    "X_train, X_test, y_train, y_test = train_test_split(X, y, test_size=.2)\n",
    "\n",
    "(X_train.shape, y_train.shape), (X_test.shape, y_test.shape)"
   ]
  },
  {
   "cell_type": "code",
   "execution_count": 24,
   "metadata": {},
   "outputs": [],
   "source": [
    "# Scale the features to ensure they are on the same scale\n",
    "from sklearn.preprocessing import StandardScaler\n",
    "\n",
    "scaler = StandardScaler()\n",
    "X_train = scaler.fit_transform(X_train)\n",
    "X_test = scaler.transform(X_test)"
   ]
  },
  {
   "cell_type": "code",
   "execution_count": 25,
   "metadata": {},
   "outputs": [
    {
     "name": "stderr",
     "output_type": "stream",
     "text": [
      "C:\\Users\\Anish\\Anaconda3\\lib\\site-packages\\sklearn\\linear_model\\logistic.py:432: FutureWarning: Default solver will be changed to 'lbfgs' in 0.22. Specify a solver to silence this warning.\n",
      "  FutureWarning)\n"
     ]
    }
   ],
   "source": [
    "# Instantiate the Logistic Regression model and train it\n",
    "from sklearn.linear_model import LogisticRegression\n",
    "\n",
    "classifier = LogisticRegression()\n",
    "classifier.fit(X_train, y_train)\n",
    "\n",
    "y_preds = classifier.predict(X_test)"
   ]
  },
  {
   "cell_type": "markdown",
   "metadata": {},
   "source": [
    "### Model Evaluation"
   ]
  },
  {
   "cell_type": "code",
   "execution_count": 26,
   "metadata": {},
   "outputs": [
    {
     "name": "stdout",
     "output_type": "stream",
     "text": [
      "Accuracy score: 0.92\n",
      "\n",
      "Confusion matrix:\n",
      " [[41  4]\n",
      " [ 4 51]]\n",
      "\n",
      "Classification report:               precision    recall  f1-score   support\n",
      "\n",
      "           0       0.91      0.91      0.91        45\n",
      "           1       0.93      0.93      0.93        55\n",
      "\n",
      "    accuracy                           0.92       100\n",
      "   macro avg       0.92      0.92      0.92       100\n",
      "weighted avg       0.92      0.92      0.92       100\n",
      "\n"
     ]
    }
   ],
   "source": [
    "from sklearn.metrics import accuracy_score\n",
    "from sklearn.metrics import classification_report\n",
    "from sklearn.metrics import confusion_matrix\n",
    "\n",
    "print(f'Accuracy score: {accuracy_score(y_test, y_preds)}')\n",
    "print()\n",
    "print(f'Confusion matrix:\\n {confusion_matrix(y_test, y_preds)}')\n",
    "print()\n",
    "print(f'Classification report: {classification_report(y_test, y_preds)}')"
   ]
  },
  {
   "cell_type": "markdown",
   "metadata": {},
   "source": [
    "### Model Prediction"
   ]
  },
  {
   "cell_type": "code",
   "execution_count": 27,
   "metadata": {},
   "outputs": [
    {
     "data": {
      "text/plain": [
       "array([1], dtype=int64)"
      ]
     },
     "execution_count": 27,
     "metadata": {},
     "output_type": "execute_result"
    }
   ],
   "source": [
    "# Predict two data samples\n",
    "\n",
    "# The following user spends 70 hours on average browsing the site, and has a salary of 100,000\n",
    "# This is a user who WILL click on the ads\n",
    "sample = scaler.transform([[70, 100000]])\n",
    "classifier.predict(sample)"
   ]
  },
  {
   "cell_type": "code",
   "execution_count": 28,
   "metadata": {},
   "outputs": [
    {
     "data": {
      "text/plain": [
       "array([0], dtype=int64)"
      ]
     },
     "execution_count": 28,
     "metadata": {},
     "output_type": "execute_result"
    }
   ],
   "source": [
    "# The following user spends 20 hours on average browsing the site, and has a salary of 30,000\n",
    "# This is a user who will NOT click on the ads\n",
    "sample = scaler.transform([[20, 30000]])\n",
    "classifier.predict(sample)"
   ]
  },
  {
   "cell_type": "markdown",
   "metadata": {},
   "source": [
    "### Model Improvement "
   ]
  },
  {
   "cell_type": "code",
   "execution_count": 29,
   "metadata": {},
   "outputs": [],
   "source": [
    "from sklearn.ensemble import RandomForestClassifier\n",
    "\n",
    "classifier = RandomForestClassifier(n_estimators=100)\n",
    "classifier.fit(X_train, y_train)\n",
    "\n",
    "y_preds = classifier.predict(X_test)"
   ]
  },
  {
   "cell_type": "code",
   "execution_count": 30,
   "metadata": {},
   "outputs": [
    {
     "name": "stdout",
     "output_type": "stream",
     "text": [
      "Accuracy score: 0.9\n",
      "\n",
      "Confusion matrix:\n",
      " [[40  5]\n",
      " [ 5 50]]\n",
      "\n",
      "Classification report:               precision    recall  f1-score   support\n",
      "\n",
      "           0       0.89      0.89      0.89        45\n",
      "           1       0.91      0.91      0.91        55\n",
      "\n",
      "    accuracy                           0.90       100\n",
      "   macro avg       0.90      0.90      0.90       100\n",
      "weighted avg       0.90      0.90      0.90       100\n",
      "\n"
     ]
    }
   ],
   "source": [
    "from sklearn.metrics import accuracy_score\n",
    "from sklearn.metrics import classification_report\n",
    "from sklearn.metrics import confusion_matrix\n",
    "\n",
    "print(f'Accuracy score: {accuracy_score(y_test, y_preds)}')\n",
    "print()\n",
    "print(f'Confusion matrix:\\n {confusion_matrix(y_test, y_preds)}')\n",
    "print()\n",
    "print(f'Classification report: {classification_report(y_test, y_preds)}')"
   ]
  },
  {
   "cell_type": "markdown",
   "metadata": {},
   "source": [
    "### Model Evaluation (More Depth)"
   ]
  },
  {
   "cell_type": "code",
   "execution_count": 46,
   "metadata": {},
   "outputs": [
    {
     "name": "stdout",
     "output_type": "stream",
     "text": [
      "Classifier score: 89.38%\n"
     ]
    }
   ],
   "source": [
    "from sklearn.model_selection import cross_val_score\n",
    "\n",
    "scores = cross_val_score(classifier, X, y, cv=10)\n",
    "print(f'Classifier score: {np.mean(scores) * 100:.2f}%')"
   ]
  },
  {
   "cell_type": "code",
   "execution_count": 59,
   "metadata": {
    "scrolled": true
   },
   "outputs": [
    {
     "data": {
      "text/plain": [
       "<matplotlib.legend.Legend at 0x225f20b3b08>"
      ]
     },
     "execution_count": 59,
     "metadata": {},
     "output_type": "execute_result"
    },
    {
     "data": {
      "image/png": "[encoded data removed]",
      "text/plain": [
       "<Figure size 720x576 with 1 Axes>"
      ]
     },
     "metadata": {
      "needs_background": "light"
     },
     "output_type": "display_data"
    }
   ],
   "source": [
    "# Calculate the ROC and AUC\n",
    "\n",
    "from sklearn.metrics import roc_auc_score\n",
    "from sklearn.metrics import roc_curve\n",
    "\n",
    "# Predict the probabilities of the classes\n",
    "y_probs = classifier.predict_proba(X_test)\n",
    "\n",
    "# Only retain the positive rates\n",
    "y_probs = y_probs[:, 1]\n",
    "y_probs[:10]\n",
    "\n",
    "# Calculate the fpr, tpr, and threshold\n",
    "fpr, tpr, threshold = roc_curve(y_test, y_probs)\n",
    "\n",
    "plt.figure(figsize=(10, 8))\n",
    "plt.plot(fpr, tpr, linestyle='-')\n",
    "plt.plot([0,1], [0, 1], linestyle='--', c='r')\n",
    "plt.legend(['ROC'])"
   ]
  },
  {
   "cell_type": "code",
   "execution_count": 63,
   "metadata": {},
   "outputs": [
    {
     "data": {
      "text/plain": [
       "array([[40,  5],\n",
       "       [ 5, 50]], dtype=int64)"
      ]
     },
     "execution_count": 63,
     "metadata": {},
     "output_type": "execute_result"
    }
   ],
   "source": [
    "from sklearn.metrics import confusion_matrix\n",
    "\n",
    "confusion_matrix(y_test, y_preds)"
   ]
  },
  {
   "cell_type": "code",
   "execution_count": null,
   "metadata": {},
   "outputs": [],
   "source": []
  }
 ],
 "metadata": {
  "kernelspec": {
   "display_name": "Python 3",
   "language": "python",
   "name": "python3"
  },
  "language_info": {
   "codemirror_mode": {
    "name": "ipython",
    "version": 3
   },
   "file_extension": ".py",
   "mimetype": "text/x-python",
   "name": "python",
   "nbconvert_exporter": "python",
   "pygments_lexer": "ipython3",
   "version": "3.7.4"
  }
 },
 "nbformat": 4,
 "nbformat_minor": 2
}
